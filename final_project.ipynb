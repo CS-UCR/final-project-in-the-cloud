{
 "cells": [
  {
   "cell_type": "markdown",
   "id": "d26c82a5-8138-4582-80b5-6b295df95a80",
   "metadata": {},
   "source": [
    "## Team In The Cloud Final Project\n"
   ]
  },
  {
   "cell_type": "markdown",
   "id": "7601f07a-fe75-4c93-8ab4-e1e32e44fa45",
   "metadata": {},
   "source": [
    "Members: Anchita Bora, Hridya Antony, Nicole Carter\n"
   ]
  },
  {
   "cell_type": "code",
   "execution_count": null,
   "id": "8b565c42-3eb2-4d1c-bbac-0ae463087c55",
   "metadata": {},
   "outputs": [],
<<<<<<< HEAD
=======
   "source": [
    "# Load the data and libraries\n",
    "import pandas as pd\n",
    "import numpy as np\n",
    "\n",
    "adult = pd.read_csv('adult_with_pii.csv')"
   ]
  },
  {
   "cell_type": "markdown",
   "id": "3b658585-f762-4d5e-8715-fc1f126eae16",
   "metadata": {},
   "source": [
    "**Histogram Algorithm**"
   ]
  },
  {
   "cell_type": "markdown",
   "id": "260de566-1fa5-4633-85f5-9ada77268350",
   "metadata": {},
   "source": [
    "The Histogram Algorithm is a general algorithm that is able to produce histograms to represent data. In regards to differential privacy, people can make it incorrectly by not adding enough noise to the data. The paper demonstrated both correct and incorrect ways to implement the algorithm from a differential privacy standpoint, and below are our findings."
   ]
  },
  {
   "cell_type": "code",
   "execution_count": null,
   "id": "87903357-12cb-46c6-8f7e-32a460858b58",
   "metadata": {},
   "outputs": [],
>>>>>>> ff19ee1e79c7f03a9b2400ce24149db1c5e49dde
   "source": []
  }
 ],
 "metadata": {
  "kernelspec": {
   "display_name": "Python 3 (ipykernel)",
   "language": "python",
   "name": "python3"
  },
  "language_info": {
   "codemirror_mode": {
    "name": "ipython",
    "version": 3
   },
   "file_extension": ".py",
   "mimetype": "text/x-python",
   "name": "python",
   "nbconvert_exporter": "python",
   "pygments_lexer": "ipython3",
<<<<<<< HEAD
   "version": "3.8.15"
=======
   "version": "3.9.13"
>>>>>>> ff19ee1e79c7f03a9b2400ce24149db1c5e49dde
  }
 },
 "nbformat": 4,
 "nbformat_minor": 5
}
