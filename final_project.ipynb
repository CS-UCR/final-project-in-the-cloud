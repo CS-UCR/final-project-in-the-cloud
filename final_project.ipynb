{
 "cells": [
  {
   "cell_type": "markdown",
   "id": "d26c82a5-8138-4582-80b5-6b295df95a80",
   "metadata": {},
   "source": [
    "# Team In The Cloud Final Project\n"
   ]
  },
  {
   "cell_type": "markdown",
   "id": "7601f07a-fe75-4c93-8ab4-e1e32e44fa45",
   "metadata": {},
   "source": [
    "Members: Anchita Bora, Hridya Antony, Nicole Carter\n"
   ]
  },
  {
   "cell_type": "markdown",
   "id": "598bf6e7-a074-4f6b-8ef6-4d8c1627b3ea",
   "metadata": {},
   "source": [
    "## Report Noisy Max Algorithm\n",
    "\n",
    "Report Noisy Max (RNM) is a selection algorithm, which is an algorithm that finds the kth smallest value in a list. RNM is used to return the approximate maximizer and 2nd maximizer. According to the paper, RNM can also return the \"noisy gap\" between the approximate maximizer \n",
    "\n",
    "Given a set of queries, RNM returns the identity (not value) of the query that is likely to have the largest value -- adds noise to each query answer and returns the index of the query with the largest noisy value. \n",
    "\n",
    "The basic idea:\n",
    "1. For each case in a set, compute a noisy score using Laplace Mechanism\n",
    "2. Output the element in the set with the maximum noisy score\n"
   ]
  },
  {
   "cell_type": "code",
   "execution_count": 17,
   "id": "7495434d-37bd-4362-a404-4dfc1ffd73ba",
   "metadata": {},
   "outputs": [],
   "source": [
    "# Load the data and libraries\n",
    "import pandas as pd\n",
    "import numpy as np\n",
    "import matplotlib.pyplot as plt\n",
    "\n",
    "adult = pd.read_csv('adult_with_pii.csv')    "
   ]
  },
  {
   "cell_type": "code",
   "execution_count": 18,
   "id": "03e72aec-fa6e-46c2-b869-e8b820e37ba5",
   "metadata": {},
   "outputs": [
    {
     "name": "stdout",
     "output_type": "stream",
     "text": [
      "['Never-married' 'Married-civ-spouse' 'Divorced' 'Married-spouse-absent'\n",
      " 'Separated' 'Married-AF-spouse' 'Widowed']\n"
     ]
    }
   ],
   "source": [
    "options = adult['Marital Status'].unique()\n",
    "print(options)"
   ]
  },
  {
   "cell_type": "code",
   "execution_count": null,
   "id": "a1c78ce2-27b2-400f-84e3-d57f255f8ac0",
   "metadata": {},
   "outputs": [],
   "source": [
    "def laplace_mechanism(v, sense, eps):\n",
    "    return v + np.random.laplace(loc=0, scale=sensitivity / epsilon)"
   ]
  },
  {
   "cell_type": "code",
   "execution_count": 15,
   "id": "4f09719f-54ed-4803-a3e3-ded23a065893",
   "metadata": {},
   "outputs": [
    {
     "ename": "NameError",
     "evalue": "name 'score' is not defined",
     "output_type": "error",
     "traceback": [
      "\u001b[0;31m---------------------------------------------------------------------------\u001b[0m",
      "\u001b[0;31mNameError\u001b[0m                                 Traceback (most recent call last)",
      "Cell \u001b[0;32mIn[15], line 10\u001b[0m\n\u001b[1;32m      6\u001b[0m     max_index \u001b[38;5;241m=\u001b[39m np\u001b[38;5;241m.\u001b[39margmax(noisy_scores)\n\u001b[1;32m      8\u001b[0m     \u001b[38;5;28;01mreturn\u001b[39;00m R[max_index]\n\u001b[0;32m---> 10\u001b[0m report_noisy_max(adult[\u001b[38;5;124m'\u001b[39m\u001b[38;5;124mMarital Status\u001b[39m\u001b[38;5;124m'\u001b[39m], options, \u001b[43mscore\u001b[49m, \u001b[38;5;241m1\u001b[39m, \u001b[38;5;241m1\u001b[39m)\n",
      "\u001b[0;31mNameError\u001b[0m: name 'score' is not defined"
     ]
    }
   ],
   "source": [
    "def report_noisy_max(x, R, u, sense, eps):\n",
    "    scores = [u(x,r) for r in R] \n",
    "    noisy_scores = []\n",
    "    "
   ]
  },
  {
   "cell_type": "markdown",
   "id": "403d3acf-da95-449d-8dcc-4de5551205fe",
   "metadata": {},
   "source": [
    "RNM satisfies differential privacy as it releases only the identity of the element with the largest noisy count and nothing more."
   ]
  },
  {
   "cell_type": "code",
   "execution_count": null,
   "id": "bb0b19ab-6ff5-4c5c-b15a-883dac649401",
   "metadata": {},
   "outputs": [],
   "source": []
  },
  {
   "cell_type": "code",
   "execution_count": null,
   "id": "d0b39125-b8fd-4e9a-9eb2-06e4101828c9",
   "metadata": {},
   "outputs": [],
   "source": []
  }
 ],
 "metadata": {
  "kernelspec": {
   "display_name": "Python 3 (ipykernel)",
   "language": "python",
   "name": "python3"
  },
  "language_info": {
   "codemirror_mode": {
    "name": "ipython",
    "version": 3
   },
   "file_extension": ".py",
   "mimetype": "text/x-python",
   "name": "python",
   "nbconvert_exporter": "python",
   "pygments_lexer": "ipython3",
   "version": "3.8.15"
  }
 },
 "nbformat": 4,
 "nbformat_minor": 5
}
