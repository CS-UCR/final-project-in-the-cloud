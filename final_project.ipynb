{
 "cells": [
  {
   "cell_type": "markdown",
   "id": "d26c82a5-8138-4582-80b5-6b295df95a80",
   "metadata": {},
   "source": [
    "# Team In The Cloud Final Project\n"
   ]
  },
  {
   "cell_type": "markdown",
   "id": "7601f07a-fe75-4c93-8ab4-e1e32e44fa45",
   "metadata": {},
   "source": [
    "Members: Anchita Bora, Hridya Antony, Nicole Carter\n"
   ]
  },
  {
   "cell_type": "markdown",
   "id": "598bf6e7-a074-4f6b-8ef6-4d8c1627b3ea",
   "metadata": {},
   "source": [
    "## Report Noisy Max Algorithm\n",
    "\n",
    "Report Noisy Max (RNM) is a selection algorithm, which is an algorithm that finds the kth smallest value in a list. RNM is used to return the approximate maximizer and 2nd maximizer. According to the paper, RNM can also return the \"noisy gap\" between the approximate maximizer \n",
    "\n",
    "Given a set of queries, RNM returns the identity (not value) of the query that is likely to have the largest value -- adds noise to each query answer and returns the index of the query with the largest noisy value. \n",
    "\n",
    "The basic idea:\n",
    "1. For each case in a set, compute a noisy score using Laplace Mechanism\n",
    "2. Output the element in the set with the maximum noisy score\n"
   ]
  },
  {
   "cell_type": "code",
   "execution_count": 17,
   "id": "7495434d-37bd-4362-a404-4dfc1ffd73ba",
   "metadata": {},
   "outputs": [],
   "source": [
    "# Load the data and libraries\n",
    "import pandas as pd\n",
    "import numpy as np\n",
    "import matplotlib.pyplot as plt\n",
    "\n",
    "adult = pd.read_csv('adult_with_pii.csv')    "
   ]
  },
  {
   "cell_type": "code",
   "execution_count": 32,
   "id": "03e72aec-fa6e-46c2-b869-e8b820e37ba5",
   "metadata": {},
   "outputs": [
    {
     "name": "stdout",
     "output_type": "stream",
     "text": [
      "['Bachelors' 'HS-grad' '11th' 'Masters' '9th' 'Some-college' 'Assoc-acdm'\n",
      " 'Assoc-voc' '7th-8th' 'Doctorate' 'Prof-school' '5th-6th' '10th'\n",
      " '1st-4th' 'Preschool' '12th']\n"
     ]
    },
    {
     "data": {
      "text/plain": [
       "5.355"
      ]
     },
     "execution_count": 32,
     "metadata": {},
     "output_type": "execute_result"
    }
   ],
   "source": [
    "options = adult['Education'].unique()\n",
    "print(options)\n",
    "\n",
    "def score(data, option):\n",
    "    return data.value_counts()[option]/1000\n",
    "\n",
    "score(adult['Education'], 'Bachelors')"
   ]
  },
  {
   "cell_type": "code",
   "execution_count": 33,
   "id": "a1c78ce2-27b2-400f-84e3-d57f255f8ac0",
   "metadata": {},
   "outputs": [],
   "source": [
    "def laplace_mechanism(v, sense, eps):\n",
    "    return v + np.random.laplace(loc=0, scale=sense / eps)"
   ]
  },
  {
   "cell_type": "code",
   "execution_count": 36,
   "id": "4f09719f-54ed-4803-a3e3-ded23a065893",
   "metadata": {},
   "outputs": [
    {
     "data": {
      "text/plain": [
       "HS-grad         96\n",
       "Some-college     3\n",
       "Bachelors        1\n",
       "dtype: int64"
      ]
     },
     "execution_count": 36,
     "metadata": {},
     "output_type": "execute_result"
    }
   ],
   "source": [
    "def report_noisy_max(x, R, u, sense, eps):\n",
    "    scores = [u(x,r) for r in R]\n",
    "    \n",
    "    noisy_scores = [laplace_mechanism(score, sense, eps) for score in scores]\n",
    "    \n",
    "    max_index = np.argmax(noisy_scores)\n",
    "    \n",
    "    return R[max_index]\n",
    "\n",
    "report_noisy_max(adult['Education'], options, score, 1, 1)\n",
    "\n",
    "r = [report_noisy_max(adult['Education'], options, score, 1, 1) for i in range(100)]\n",
    "pd.Series(r).value_counts()\n",
    "    "
   ]
  },
  {
   "cell_type": "markdown",
   "id": "403d3acf-da95-449d-8dcc-4de5551205fe",
   "metadata": {},
   "source": [
    "RNM satisfies differential privacy as it releases only the identity of the element with the largest noisy count and nothing more."
   ]
  },
  {
   "cell_type": "code",
   "execution_count": null,
   "id": "abfdcce1-c9f0-4253-896f-61992299eb86",
   "metadata": {},
   "outputs": [],
   "source": []
  }
 ],
 "metadata": {
  "kernelspec": {
   "display_name": "Python 3 (ipykernel)",
   "language": "python",
   "name": "python3"
  },
  "language_info": {
   "codemirror_mode": {
    "name": "ipython",
    "version": 3
   },
   "file_extension": ".py",
   "mimetype": "text/x-python",
   "name": "python",
   "nbconvert_exporter": "python",
   "pygments_lexer": "ipython3",
   "version": "3.8.15"
  }
 },
 "nbformat": 4,
 "nbformat_minor": 5
}
