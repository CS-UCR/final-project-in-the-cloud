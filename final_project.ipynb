{
 "cells": [
  {
   "cell_type": "markdown",
   "id": "d26c82a5-8138-4582-80b5-6b295df95a80",
   "metadata": {},
   "source": [
    "# Team In The Cloud Final Project\n"
   ]
  },
  {
   "cell_type": "markdown",
   "id": "7601f07a-fe75-4c93-8ab4-e1e32e44fa45",
   "metadata": {},
   "source": [
    "Members: Anchita Bora, Hridya Antony, Nicole Carter\n"
   ]
  },
  {
   "cell_type": "markdown",
   "id": "598bf6e7-a074-4f6b-8ef6-4d8c1627b3ea",
   "metadata": {},
   "source": [
    "## Report Noisy Max Algorithm\n",
    "\n",
    "Report Noisy Max (RNM) is a selection algorithm, which is an algorithm that finds the kth smallest value in a list. RNM is used to return the approximate maximizer and 2nd maximizer. According to the paper, RNM can also return the \"noisy gap\" between the approximate maximizer \n",
    "\n",
    "Given a set of queries, RNM returns the identity (not value) of the query that is likely to have the largest value -- adds noise to each query answer and returns the index of the query with the largest noisy value. \n",
    "\n",
    "The basic idea:\n",
    "1. For each case in a set, compute a noisy score using Laplace Mechanism\n",
    "2. Output the element in the set with the maximum noisy score\n"
   ]
  },
  {
   "cell_type": "code",
   "execution_count": 17,
   "id": "7495434d-37bd-4362-a404-4dfc1ffd73ba",
   "metadata": {},
   "outputs": [],
   "source": [
    "# Load the data and libraries\n",
    "import pandas as pd\n",
    "import numpy as np\n",
    "import matplotlib.pyplot as plt\n",
    "\n",
    "adult = pd.read_csv('adult_with_pii.csv')    "
   ]
  },
  {
   "cell_type": "code",
   "execution_count": 21,
   "id": "03e72aec-fa6e-46c2-b869-e8b820e37ba5",
   "metadata": {},
   "outputs": [
    {
     "name": "stdout",
     "output_type": "stream",
     "text": [
      "['Never-married' 'Married-civ-spouse' 'Divorced' 'Married-spouse-absent'\n",
      " 'Separated' 'Married-AF-spouse' 'Widowed']\n"
     ]
    },
    {
     "data": {
      "text/plain": [
       "10.683"
      ]
     },
     "execution_count": 21,
     "metadata": {},
     "output_type": "execute_result"
    }
   ],
   "source": [
    "options = adult['Marital Status'].unique()\n",
    "print(options)\n",
    "\n",
    "def score(data, option):\n",
    "    return data.value_counts()[option]/1000\n",
    "\n",
    "score(adult['Marital Status'], 'Never-married')"
   ]
  },
  {
   "cell_type": "code",
   "execution_count": 24,
   "id": "a1c78ce2-27b2-400f-84e3-d57f255f8ac0",
   "metadata": {},
   "outputs": [],
   "source": [
    "def laplace_mechanism(v, sense, eps):\n",
    "    return v + np.random.laplace(loc=0, scale=sense / eps)"
   ]
  },
  {
   "cell_type": "code",
   "execution_count": 25,
   "id": "4f09719f-54ed-4803-a3e3-ded23a065893",
   "metadata": {},
   "outputs": [
    {
     "ename": "NameError",
     "evalue": "name 'epsilon' is not defined",
     "output_type": "error",
     "traceback": [
      "\u001b[0;31m---------------------------------------------------------------------------\u001b[0m",
      "\u001b[0;31mNameError\u001b[0m                                 Traceback (most recent call last)",
      "Cell \u001b[0;32mIn[25], line 10\u001b[0m\n\u001b[1;32m      6\u001b[0m     max_index \u001b[38;5;241m=\u001b[39m np\u001b[38;5;241m.\u001b[39margmax(noisy_scores)\n\u001b[1;32m      8\u001b[0m     \u001b[38;5;28;01mreturn\u001b[39;00m R[max_index]\n\u001b[0;32m---> 10\u001b[0m \u001b[43mreport_noisy_max\u001b[49m\u001b[43m(\u001b[49m\u001b[43madult\u001b[49m\u001b[43m[\u001b[49m\u001b[38;5;124;43m'\u001b[39;49m\u001b[38;5;124;43mMarital Status\u001b[39;49m\u001b[38;5;124;43m'\u001b[39;49m\u001b[43m]\u001b[49m\u001b[43m,\u001b[49m\u001b[43m \u001b[49m\u001b[43moptions\u001b[49m\u001b[43m,\u001b[49m\u001b[43m \u001b[49m\u001b[43mscore\u001b[49m\u001b[43m,\u001b[49m\u001b[43m \u001b[49m\u001b[38;5;241;43m1\u001b[39;49m\u001b[43m,\u001b[49m\u001b[43m \u001b[49m\u001b[38;5;241;43m1\u001b[39;49m\u001b[43m)\u001b[49m\n",
      "Cell \u001b[0;32mIn[25], line 4\u001b[0m, in \u001b[0;36mreport_noisy_max\u001b[0;34m(x, R, u, sense, eps)\u001b[0m\n\u001b[1;32m      1\u001b[0m \u001b[38;5;28;01mdef\u001b[39;00m \u001b[38;5;21mreport_noisy_max\u001b[39m(x, R, u, sense, eps):\n\u001b[1;32m      2\u001b[0m     scores \u001b[38;5;241m=\u001b[39m [u(x,r) \u001b[38;5;28;01mfor\u001b[39;00m r \u001b[38;5;129;01min\u001b[39;00m R]\n\u001b[0;32m----> 4\u001b[0m     noisy_scores \u001b[38;5;241m=\u001b[39m [laplace_mechanism(score, sense, eps) \u001b[38;5;28;01mfor\u001b[39;00m score \u001b[38;5;129;01min\u001b[39;00m scores]\n\u001b[1;32m      6\u001b[0m     max_index \u001b[38;5;241m=\u001b[39m np\u001b[38;5;241m.\u001b[39margmax(noisy_scores)\n\u001b[1;32m      8\u001b[0m     \u001b[38;5;28;01mreturn\u001b[39;00m R[max_index]\n",
      "Cell \u001b[0;32mIn[25], line 4\u001b[0m, in \u001b[0;36m<listcomp>\u001b[0;34m(.0)\u001b[0m\n\u001b[1;32m      1\u001b[0m \u001b[38;5;28;01mdef\u001b[39;00m \u001b[38;5;21mreport_noisy_max\u001b[39m(x, R, u, sense, eps):\n\u001b[1;32m      2\u001b[0m     scores \u001b[38;5;241m=\u001b[39m [u(x,r) \u001b[38;5;28;01mfor\u001b[39;00m r \u001b[38;5;129;01min\u001b[39;00m R]\n\u001b[0;32m----> 4\u001b[0m     noisy_scores \u001b[38;5;241m=\u001b[39m [\u001b[43mlaplace_mechanism\u001b[49m\u001b[43m(\u001b[49m\u001b[43mscore\u001b[49m\u001b[43m,\u001b[49m\u001b[43m \u001b[49m\u001b[43msense\u001b[49m\u001b[43m,\u001b[49m\u001b[43m \u001b[49m\u001b[43meps\u001b[49m\u001b[43m)\u001b[49m \u001b[38;5;28;01mfor\u001b[39;00m score \u001b[38;5;129;01min\u001b[39;00m scores]\n\u001b[1;32m      6\u001b[0m     max_index \u001b[38;5;241m=\u001b[39m np\u001b[38;5;241m.\u001b[39margmax(noisy_scores)\n\u001b[1;32m      8\u001b[0m     \u001b[38;5;28;01mreturn\u001b[39;00m R[max_index]\n",
      "Cell \u001b[0;32mIn[24], line 2\u001b[0m, in \u001b[0;36mlaplace_mechanism\u001b[0;34m(v, sense, eps)\u001b[0m\n\u001b[1;32m      1\u001b[0m \u001b[38;5;28;01mdef\u001b[39;00m \u001b[38;5;21mlaplace_mechanism\u001b[39m(v, sense, eps):\n\u001b[0;32m----> 2\u001b[0m     \u001b[38;5;28;01mreturn\u001b[39;00m v \u001b[38;5;241m+\u001b[39m np\u001b[38;5;241m.\u001b[39mrandom\u001b[38;5;241m.\u001b[39mlaplace(loc\u001b[38;5;241m=\u001b[39m\u001b[38;5;241m0\u001b[39m, scale\u001b[38;5;241m=\u001b[39msense \u001b[38;5;241m/\u001b[39m \u001b[43mepsilon\u001b[49m)\n",
      "\u001b[0;31mNameError\u001b[0m: name 'epsilon' is not defined"
     ]
    }
   ],
   "source": [
    "def report_noisy_max(x, R, u, sense, eps):\n",
    "    scores = [u(x,r) for r in R]\n",
    "    \n",
    "    noisy_scores = [laplace_mechanism(score, sense, eps) for score in scores]\n",
    "    \n",
    "    max_index = np.argmax(noisy_scores)\n",
    "    \n",
    "    return R[max_index]\n",
    "\n",
    "report_noisy_max(adult['Marital Status'], options, score, 1, 1)\n",
    "    "
   ]
  },
  {
   "cell_type": "markdown",
   "id": "403d3acf-da95-449d-8dcc-4de5551205fe",
   "metadata": {},
   "source": [
    "RNM satisfies differential privacy as it releases only the identity of the element with the largest noisy count and nothing more."
   ]
  },
  {
   "cell_type": "code",
   "execution_count": null,
   "id": "bb0b19ab-6ff5-4c5c-b15a-883dac649401",
   "metadata": {},
   "outputs": [],
   "source": []
  },
  {
   "cell_type": "code",
   "execution_count": null,
   "id": "d0b39125-b8fd-4e9a-9eb2-06e4101828c9",
   "metadata": {},
   "outputs": [],
   "source": []
  }
 ],
 "metadata": {
  "kernelspec": {
   "display_name": "Python 3 (ipykernel)",
   "language": "python",
   "name": "python3"
  },
  "language_info": {
   "codemirror_mode": {
    "name": "ipython",
    "version": 3
   },
   "file_extension": ".py",
   "mimetype": "text/x-python",
   "name": "python",
   "nbconvert_exporter": "python",
   "pygments_lexer": "ipython3",
   "version": "3.8.15"
  }
 },
 "nbformat": 4,
 "nbformat_minor": 5
}
