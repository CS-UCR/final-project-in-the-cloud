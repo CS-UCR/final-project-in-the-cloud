{
 "cells": [
  {
   "cell_type": "markdown",
   "id": "d26c82a5-8138-4582-80b5-6b295df95a80",
   "metadata": {},
   "source": [
    "# Team In The Cloud Final Project\n"
   ]
  },
  {
   "cell_type": "markdown",
   "id": "7601f07a-fe75-4c93-8ab4-e1e32e44fa45",
   "metadata": {},
   "source": [
    "Members: Anchita Bora, Hridya Antony, Nicole Carter\n"
   ]
  },
  {
   "cell_type": "markdown",
   "id": "598bf6e7-a074-4f6b-8ef6-4d8c1627b3ea",
   "metadata": {},
   "source": [
    "## Report Noisy Max Algorithm\n",
    "\n",
    "Report Noisy Max (RNM) is a selection algorithm, which is an algorithm that finds the kth smallest value in a list. RNM is used to return the approximate maximizer and 2nd maximizer. According to the paper, RNM can also return the \"noisy gap\" between the approximate maximizer. \n",
    "\n",
    "Given a set of queries, RNM returns the identity (not value) of the query that is likely to have the largest value -- adds noise to each query answer and returns the index of the query with the largest noisy value. It accomplishes this by using a mechanism, an algorithm that supports differential privacy. In RNM according to the papers, Laplace Mechanism is used as it adds the _right_ amount of noise to satisfy differential privacy.\n",
    "\n",
    "The basic idea:\n",
    "1. For each case in a set, compute a noisy score using Laplace Mechanism\n",
    "2. Output the element in the set with the maximum noisy score\n",
    "\n"
   ]
  },
  {
   "cell_type": "code",
   "execution_count": 1,
   "id": "7495434d-37bd-4362-a404-4dfc1ffd73ba",
   "metadata": {},
   "outputs": [],
   "source": [
    "# Load the data and libraries\n",
    "import pandas as pd\n",
    "import numpy as np\n",
    "import matplotlib.pyplot as plt\n",
    "\n",
    "adult = pd.read_csv('adult_with_pii.csv')    "
   ]
  },
  {
   "cell_type": "code",
   "execution_count": 12,
   "id": "03e72aec-fa6e-46c2-b869-e8b820e37ba5",
   "metadata": {},
   "outputs": [
    {
     "name": "stdout",
     "output_type": "stream",
     "text": [
      "['Bachelors' 'HS-grad' '11th' 'Masters' '9th' 'Some-college' 'Assoc-acdm'\n",
      " 'Assoc-voc' '7th-8th' 'Doctorate' 'Prof-school' '5th-6th' '10th'\n",
      " '1st-4th' 'Preschool' '12th']\n",
      "\n",
      "Noisy score: 5.355\n"
     ]
    }
   ],
   "source": [
    "edu_options = adult['Education'].unique()\n",
    "print(edu_options)\n",
    "print( )\n",
    "\n",
    "#Computes noisy score\n",
    "def score(data, edu_option):\n",
    "    return data.value_counts()[edu_option]/1000\n",
    "\n",
    "noisy_score = score(adult['Education'], 'Bachelors')\n",
    "\n",
    "print(\"Noisy score: \" + str(noisy_score))"
   ]
  },
  {
   "cell_type": "markdown",
   "id": "a72c0962-96c3-4e57-b7f4-ebca3ac9c3e9",
   "metadata": {},
   "source": [
    "#### Laplace Mechanism\n",
    "Introduced earlier, Laplace Mechanism adds noise to achieve differential privacy. It does so by using the sensitivity of the function and epsilon for the amount of _noise_ added. In other words, the amount of required noise depends on the sensitivity of the query in question.  \n",
    "\n",
    "According to the papers gathered, the mathematical definition of Laplace Mechanism is the following:\n",
    "\n",
    "$$\n",
    "F(x) = f(x) + Lap(s / (\\epsilon))\n",
    "$$\n"
   ]
  },
  {
   "cell_type": "code",
   "execution_count": 3,
   "id": "a1c78ce2-27b2-400f-84e3-d57f255f8ac0",
   "metadata": {},
   "outputs": [],
   "source": [
    "# sense = sensitivity \n",
    "# eps = epsilon aka amount of noise\n",
    "# q = the query f(x)\n",
    "\n",
    "def laplace_mechanism(q, sense, eps):\n",
    "    return q + np.random.laplace(loc=0, scale=sense / eps)"
   ]
  },
  {
   "cell_type": "code",
   "execution_count": 11,
   "id": "4f09719f-54ed-4803-a3e3-ded23a065893",
   "metadata": {},
   "outputs": [
    {
     "name": "stdout",
     "output_type": "stream",
     "text": [
      "Item (Education level) with Max Noise Score: \n",
      "HS-grad\n",
      "\n",
      "\n",
      "Education levels from Most Noise to Least Noise:\n"
     ]
    },
    {
     "data": {
      "text/plain": [
       "HS-grad         92\n",
       "Some-college     5\n",
       "Bachelors        3\n",
       "dtype: int64"
      ]
     },
     "execution_count": 11,
     "metadata": {},
     "output_type": "execute_result"
    }
   ],
   "source": [
    "def report_noisy_max(x, R, u, sense, eps):\n",
    "    \n",
    "    #Step 1: Computes scores for each element r in the set R while noisy_scores adds noise to each score.\n",
    "    scores = [u(x,r) for r in R]\n",
    "    \n",
    "    noisy_scores = [laplace_mechanism(score, sense, eps) for score in scores]\n",
    "    \n",
    "    #Step 2: Finds index of the max score and returns element with that index.\n",
    "    max_index = np.argmax(noisy_scores)\n",
    "    \n",
    "    return R[max_index]\n",
    "\n",
    "#Shows the item/element with the largest noisy counts\n",
    "noisiest_item = report_noisy_max(adult['Education'], edu_options, score, 1, 1)\n",
    "print(\"Item (Education level) with Max Noise Score: \\n\" + noisiest_item + \"\\n\\n\")\n",
    "\n",
    "#Lists items in order of most noise to least noise\n",
    "print(\"Education levels from Most Noise to Least Noise:\")\n",
    "r = [report_noisy_max(adult['Education'], edu_options, score, 1, 1) for i in range(100)]\n",
    "pd.Series(r).value_counts()\n",
    "    "
   ]
  },
  {
   "cell_type": "markdown",
   "id": "403d3acf-da95-449d-8dcc-4de5551205fe",
   "metadata": {},
   "source": [
    "RNM satisfies differential privacy as it releases only the identity of the element with the largest noisy count and nothing more."
   ]
  },
  {
   "cell_type": "code",
   "execution_count": null,
   "id": "abfdcce1-c9f0-4253-896f-61992299eb86",
   "metadata": {},
   "outputs": [],
   "source": []
  }
 ],
 "metadata": {
  "kernelspec": {
   "display_name": "Python 3 (ipykernel)",
   "language": "python",
   "name": "python3"
  },
  "language_info": {
   "codemirror_mode": {
    "name": "ipython",
    "version": 3
   },
   "file_extension": ".py",
   "mimetype": "text/x-python",
   "name": "python",
   "nbconvert_exporter": "python",
   "pygments_lexer": "ipython3",
   "version": "3.8.15"
  }
 },
 "nbformat": 4,
 "nbformat_minor": 5
}
