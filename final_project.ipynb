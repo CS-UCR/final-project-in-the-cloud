{
 "cells": [
  {
   "cell_type": "markdown",
   "id": "d26c82a5-8138-4582-80b5-6b295df95a80",
   "metadata": {},
   "source": [
    "# Team In The Cloud Final Project\n"
   ]
  },
  {
   "cell_type": "markdown",
   "id": "7601f07a-fe75-4c93-8ab4-e1e32e44fa45",
   "metadata": {},
   "source": [
    "Members: Anchita Bora, Hridya Antony, Nicole Carter\n"
   ]
  },
  {
   "cell_type": "markdown",
   "id": "598bf6e7-a074-4f6b-8ef6-4d8c1627b3ea",
   "metadata": {},
   "source": [
    "## Report Noisy Max Algorithm\n",
    "\n",
    "Report Noisy Max (RNM) is a selection algorithm, which is an algorithm that finds the kth smallest value in a list. RNM is used to return the approximate maximizer and 2nd maximizer. According to the paper, RNM can also return the \"noisy gap\" between the approximate maximizer \n",
    "\n",
    "Given a set of queries, RNM returns the identity (not value) of the query that is likely to have the largest value -- adds noise to each query answer and returns the index of the query with the largest noisy value. "
   ]
  },
  {
   "cell_type": "code",
   "execution_count": null,
   "id": "7495434d-37bd-4362-a404-4dfc1ffd73ba",
   "metadata": {},
   "outputs": [
    {
     "ename": "SyntaxError",
     "evalue": "unexpected EOF while parsing (489265414.py, line 2)",
     "output_type": "error",
     "traceback": [
      "\u001b[0;36m  Cell \u001b[0;32mIn[5], line 2\u001b[0;36m\u001b[0m\n\u001b[0;31m    \u001b[0m\n\u001b[0m    ^\u001b[0m\n\u001b[0;31mSyntaxError\u001b[0m\u001b[0;31m:\u001b[0m unexpected EOF while parsing\n"
     ]
    }
   ],
   "source": [
    "def report_noisy_max():\n",
    "    "
   ]
  },
  {
   "cell_type": "code",
   "execution_count": null,
   "id": "25b4ef87-a48e-4266-844f-4ea72bfa889c",
   "metadata": {},
   "outputs": [],
   "source": []
  }
 ],
 "metadata": {
  "kernelspec": {
   "display_name": "Python 3 (ipykernel)",
   "language": "python",
   "name": "python3"
  },
  "language_info": {
   "codemirror_mode": {
    "name": "ipython",
    "version": 3
   },
   "file_extension": ".py",
   "mimetype": "text/x-python",
   "name": "python",
   "nbconvert_exporter": "python",
   "pygments_lexer": "ipython3",
   "version": "3.8.15"
  }
 },
 "nbformat": 4,
 "nbformat_minor": 5
}
